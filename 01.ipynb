{
 "cells": [
  {
   "cell_type": "code",
   "execution_count": 5,
   "metadata": {},
   "outputs": [],
   "source": [
    "from PIL import Image\n",
    "import tensorflow as tf\n",
    "from tensorflow import keras\n",
    "import os, glob"
   ]
  },
  {
   "cell_type": "code",
   "execution_count": 6,
   "metadata": {},
   "outputs": [
    {
     "name": "stdout",
     "output_type": "stream",
     "text": [
      "이미지 디렉토리 경로:  /home/aiffel/rock_scissor_paper/scissor\n",
      "가위 이미지 resize 완료!\n"
     ]
    }
   ],
   "source": [
    "# 가위 이미지가 저장된 디렉토리 아래의 모든 jpg 파일을 읽어들여서\n",
    "image_dir_path = os.getenv(\"HOME\") + \"/rock_scissor_paper/scissor\"\n",
    "print(\"이미지 디렉토리 경로: \", image_dir_path)\n",
    "\n",
    "images=glob.glob(image_dir_path + \"/*.jpg\")  \n",
    "\n",
    "# 파일마다 모두 28x28 사이즈로 바꾸어 저장합니다.\n",
    "target_size=(28,28)\n",
    "for img in images:\n",
    "    old_img=Image.open(img)\n",
    "    new_img=old_img.resize(target_size,Image.ANTIALIAS)\n",
    "    new_img.save(img,\"JPEG\")\n",
    "\n",
    "print(\"가위 이미지 resize 완료!\")"
   ]
  },
  {
   "cell_type": "code",
   "execution_count": 11,
   "metadata": {},
   "outputs": [
    {
     "name": "stdout",
     "output_type": "stream",
     "text": [
      "이미지 디렉토리 경로:  /home/aiffel/rock_scissor_paper/rock\n",
      "resize 완료!\n",
      "이미지 디렉토리 경로:  /home/aiffel/rock_scissor_paper/paper\n",
      "resize 완료!\n"
     ]
    }
   ],
   "source": [
    "def convert(image_dir_path):\n",
    "        print(\"이미지 디렉토리 경로: \", image_dir_path)\n",
    "\n",
    "        images=glob.glob(image_dir_path + \"/*.jpg\")  \n",
    "\n",
    "        # 파일마다 모두 28x28 사이즈로 바꾸어 저장합니다.\n",
    "        target_size=(28,28)\n",
    "        for img in images:\n",
    "            old_img=Image.open(img)\n",
    "            new_img=old_img.resize(target_size,Image.ANTIALIAS)\n",
    "            new_img.save(img,\"JPEG\")\n",
    "\n",
    "        print(\"resize 완료!\")\n",
    "\n",
    "# 바위 이미지가 저장된 디렉토리 아래의 모든 jpg 파일을 읽어들여서\n",
    "# [[YOUR CODE]]\n",
    "\n",
    "# 파일마다 모두 28x28 사이즈로 바꾸어 저장합니다.\n",
    "# [[YOUR CODE]]\n",
    "\n",
    "rock = os.getenv(\"HOME\") + \"/rock_scissor_paper/rock\"\n",
    "paper = os.getenv(\"HOME\") + \"/rock_scissor_paper/paper\"\n",
    "convert(rock)\n",
    "convert(paper)"
   ]
  },
  {
   "cell_type": "code",
   "execution_count": 91,
   "metadata": {},
   "outputs": [],
   "source": [
    "def convert_png_to_jpg(image_dir_path):\n",
    "        print(\"이미지 디렉토리 경로: \", image_dir_path)\n",
    "        images=glob.glob(image_dir_path + \"/\"+image_dir_path.split('/')[-1]+\"_*.png\")  \n",
    "\n",
    "        # 파일마다 모두 28x28 사이즈로 바꾸어 저장합니다.\n",
    "        target_size=(28,28)\n",
    "        for x,img in enumerate(images):\n",
    "            old_img=Image.open(img)\n",
    "            old_img = old_img.convert('RGB')\n",
    "            new_img=old_img.resize(target_size,Image.ANTIALIAS)\n",
    "            new_img.save('/'.join(img.split('/')[:-1]) +f\"/{x}.jpg\",\"JPEG\")\n",
    "            os.remove(img) #old_img는 삭제해줌\n",
    "        print(\"resize 완료!\")"
   ]
  },
  {
   "cell_type": "code",
   "execution_count": 92,
   "metadata": {},
   "outputs": [
    {
     "name": "stdout",
     "output_type": "stream",
     "text": [
      "이미지 디렉토리 경로:  /home/aiffel/rock_scissor_paper_png/rock\n",
      "resize 완료!\n",
      "이미지 디렉토리 경로:  /home/aiffel/rock_scissor_paper_png/paper\n",
      "resize 완료!\n",
      "이미지 디렉토리 경로:  /home/aiffel/rock_scissor_paper_png/scissor\n",
      "resize 완료!\n"
     ]
    }
   ],
   "source": [
    "#png파일을 jpg로 바꾸고, 28x28사이즈로 바꾼다.\n",
    "rock = os.getenv(\"HOME\") + \"/rock_scissor_paper_png/rock\"\n",
    "paper = os.getenv(\"HOME\") + \"/rock_scissor_paper_png/paper\"\n",
    "scissor = os.getenv(\"HOME\") + \"/rock_scissor_paper_png/scissor\"\n",
    "\n",
    "convert_png_to_jpg(rock)\n",
    "convert_png_to_jpg(paper)\n",
    "convert_png_to_jpg(scissor)"
   ]
  },
  {
   "cell_type": "code",
   "execution_count": 71,
   "metadata": {},
   "outputs": [],
   "source": [
    "#iglob으로 하게 되면 제너레이터로 되서 메모리 절약이 가능함 그런데, length를 구하는게 좀 불편한거 같다.\n",
    "img_path = os.getenv(\"HOME\") + \"/rock_scissor_paper_png\"\n",
    "scissor = glob.iglob(img_path + \"/scissor/scissor_*.jpg\")\n",
    "rock = glob.iglob(img_path + \"/scissor/rock_*.jpg\")\n",
    "paper = glob.iglob(img_path + \"/scissor/paper_*.jpg\")"
   ]
  },
  {
   "cell_type": "code",
   "execution_count": 46,
   "metadata": {},
   "outputs": [],
   "source": [
    "#glob으로 하게 되면 리스트로 불러와서 length를 바로 구할 수 있는데, 메모리에 부담이 커짐.(glob으로 불러오는 데이터가 클 경우 문제 발생)\n",
    "img_path = os.getenv(\"HOME\") + \"/rock_scissor_paper_png\"\n",
    "scissor = glob.glob(img_path + \"/scissor/scissor_*.jpg\")\n",
    "rock = glob.glob(img_path + \"/rock/rock_*.jpg\")\n",
    "paper = glob.glob(img_path + \"/paper/paper_*.jpg\")"
   ]
  },
  {
   "cell_type": "code",
   "execution_count": 193,
   "metadata": {},
   "outputs": [],
   "source": [
    "import numpy as np\n",
    "\n",
    "def load_data(img_path):\n",
    "    # 가위 : 0, 바위 : 1, 보 : 2\n",
    "    scissor = glob.glob(img_path + \"/scissor/*.jpg\")\n",
    "    rock = glob.glob(img_path + \"/rock/*.jpg\")\n",
    "    paper = glob.glob(img_path + \"/paper/*.jpg\")\n",
    "    \n",
    "    number_of_data=  len(scissor)+len(rock)+len(paper)\n",
    "    data = number_of_data*2/3\n",
    "    data = int(data)\n",
    "    test_data = number_of_data-data\n",
    "\n",
    "    img_size=28\n",
    "    color=3\n",
    "    \n",
    "    train_imgs=np.zeros(data*img_size*img_size*color,dtype=np.int32).reshape(data,img_size,img_size,color)\n",
    "    train_labels=np.zeros(data,dtype=np.int32)\n",
    "    \n",
    "    test_imgs=np.zeros(test_data*img_size*img_size*color,dtype=np.int32).reshape(test_data,img_size,img_size,color)\n",
    "    test_labels=np.zeros(test_data,dtype=np.int32)\n",
    "    \n",
    "    td=int(data/3)\n",
    "        \n",
    "    train_scissor = scissor[:td]\n",
    "    train_rock = rock[:td]\n",
    "    train_paper = paper[:td]\n",
    "    \n",
    "    test_scissor = scissor[td:]\n",
    "    test_rock = rock[td:]\n",
    "    test_paper = paper[td:]\n",
    "    \n",
    "#     \"\"\"\"\"\"\n",
    "    idx=0\n",
    "    for file in train_scissor:\n",
    "        img = np.array(Image.open(file),dtype=np.int32)\n",
    "        train_imgs[idx,:,:,:]=img    # 데이터 영역에 이미지 행렬을 복사\n",
    "        train_labels[idx]=0   # 가위 : 0\n",
    "        idx=idx+1\n",
    "\n",
    "    for file in train_rock:\n",
    "        img = np.array(Image.open(file),dtype=np.int32)\n",
    "        train_imgs[idx,:,:,:]=img    # 데이터 영역에 이미지 행렬을 복사\n",
    "        train_labels[idx]=1   # 바위 : 1\n",
    "        idx=idx+1       \n",
    "    \n",
    "    for file in train_paper:\n",
    "        img = np.array(Image.open(file),dtype=np.int32)\n",
    "        train_imgs[idx,:,:,:]=img    # 데이터 영역에 이미지 행렬을 복사\n",
    "        train_labels[idx]=2   # 보 : 2\n",
    "        idx=idx+1\n",
    "        \n",
    "    tidx=0\n",
    "        \n",
    "    for file in test_scissor:\n",
    "        img = np.array(Image.open(file),dtype=np.int32)\n",
    "        test_imgs[tidx,:,:,:]=img    # 데이터 영역에 이미지 행렬을 복사\n",
    "        test_labels[tidx]=0   # 가위 : 0\n",
    "        tidx=tidx+1\n",
    "\n",
    "    for file in test_rock:\n",
    "        img = np.array(Image.open(file),dtype=np.int32)\n",
    "        test_imgs[tidx,:,:,:]=img    # 데이터 영역에 이미지 행렬을 복사\n",
    "        test_labels[tidx]=1   # 바위 : 1\n",
    "        tidx=tidx+1       \n",
    "    \n",
    "    for file in test_paper:\n",
    "        img = np.array(Image.open(file),dtype=np.int32)\n",
    "        test_imgs[tidx,:,:,:]=img    # 데이터 영역에 이미지 행렬을 복사\n",
    "        test_labels[tidx]=2   # 보 : 2\n",
    "        tidx=tidx+1\n",
    "    \n",
    "#     \"\"\"\"\"\"\n",
    "    print(\"학습데이터(x_train)의 이미지 개수는\",idx+tidx,\"입니다.\")\n",
    "    return train_imgs, train_labels, test_imgs, test_labels"
   ]
  },
  {
   "cell_type": "code",
   "execution_count": 194,
   "metadata": {},
   "outputs": [
    {
     "name": "stdout",
     "output_type": "stream",
     "text": [
      "학습데이터(x_train)의 이미지 개수는 2520 입니다.\n",
      "x_train shape: (1680, 28, 28, 3)\n",
      "y_train shape: (1680,)\n",
      "x_test shape: (840, 28, 28, 3)\n",
      "y_test shape: (840,)\n"
     ]
    }
   ],
   "source": [
    "image_dir_path = os.getenv(\"HOME\") + \"/rock_scissor_paper_png\"\n",
    "(x_train, y_train,x_test,y_test)=load_data(image_dir_path)\n",
    "x_train_norm = x_train/255.0   # 입력은 0~1 사이의 값으로 정규화\n",
    "\n",
    "print(\"x_train shape: {}\".format(x_train.shape))\n",
    "print(\"y_train shape: {}\".format(y_train.shape))\n",
    "print(\"x_test shape: {}\".format(x_test.shape))\n",
    "print(\"y_test shape: {}\".format(y_test.shape))"
   ]
  },
  {
   "cell_type": "code",
   "execution_count": 195,
   "metadata": {},
   "outputs": [
    {
     "name": "stdout",
     "output_type": "stream",
     "text": [
      "라벨:  0\n"
     ]
    },
    {
     "data": {
      "image/png": "[encoded data removed]",
      "text/plain": [
       "<Figure size 432x288 with 1 Axes>"
      ]
     },
     "metadata": {
      "needs_background": "light"
     },
     "output_type": "display_data"
    }
   ],
   "source": [
    "import matplotlib.pyplot as plt\n",
    "plt.imshow(x_train[0])\n",
    "print('라벨: ', y_train[0])"
   ]
  },
  {
   "cell_type": "code",
   "execution_count": 196,
   "metadata": {
    "scrolled": true
   },
   "outputs": [
    {
     "name": "stdout",
     "output_type": "stream",
     "text": [
      "Model: \"sequential_12\"\n",
      "_________________________________________________________________\n",
      "Layer (type)                 Output Shape              Param #   \n",
      "=================================================================\n",
      "conv2d_24 (Conv2D)           (None, 26, 26, 16)        448       \n",
      "_________________________________________________________________\n",
      "max_pooling2d_24 (MaxPooling (None, 13, 13, 16)        0         \n",
      "_________________________________________________________________\n",
      "conv2d_25 (Conv2D)           (None, 11, 11, 32)        4640      \n",
      "_________________________________________________________________\n",
      "max_pooling2d_25 (MaxPooling (None, 5, 5, 32)          0         \n",
      "_________________________________________________________________\n",
      "flatten_12 (Flatten)         (None, 800)               0         \n",
      "_________________________________________________________________\n",
      "dense_24 (Dense)             (None, 32)                25632     \n",
      "_________________________________________________________________\n",
      "dense_25 (Dense)             (None, 10)                330       \n",
      "=================================================================\n",
      "Total params: 31,050\n",
      "Trainable params: 31,050\n",
      "Non-trainable params: 0\n",
      "_________________________________________________________________\n"
     ]
    }
   ],
   "source": [
    "#바꿔 볼 수 있는 하이퍼파라미터들\n",
    "n_channel_1=16\n",
    "n_channel_2=32\n",
    "n_dense=32\n",
    "n_train_epoch=10\n",
    "\n",
    "model=keras.models.Sequential()\n",
    "model.add(keras.layers.Conv2D(n_channel_1, (3,3), activation='relu', input_shape=(28,28,3)))\n",
    "model.add(keras.layers.MaxPool2D(2,2))\n",
    "model.add(keras.layers.Conv2D(n_channel_2, (3,3), activation='relu'))\n",
    "model.add(keras.layers.MaxPooling2D((2,2)))\n",
    "model.add(keras.layers.Flatten())\n",
    "model.add(keras.layers.Dense(n_dense, activation='relu'))\n",
    "model.add(keras.layers.Dense(10, activation='softmax'))\n",
    "\n",
    "model.summary()"
   ]
  },
  {
   "cell_type": "code",
   "execution_count": null,
   "metadata": {},
   "outputs": [],
   "source": []
  },
  {
   "cell_type": "code",
   "execution_count": 197,
   "metadata": {},
   "outputs": [
    {
     "name": "stdout",
     "output_type": "stream",
     "text": [
      "Epoch 1/10\n",
      "53/53 [==============================] - 0s 1ms/step - loss: 12.2256 - accuracy: 0.4774\n",
      "Epoch 2/10\n",
      "53/53 [==============================] - 0s 1ms/step - loss: 0.6317 - accuracy: 0.8006\n",
      "Epoch 3/10\n",
      "53/53 [==============================] - 0s 1ms/step - loss: 0.2341 - accuracy: 0.9089\n",
      "Epoch 4/10\n",
      "53/53 [==============================] - 0s 1ms/step - loss: 0.1158 - accuracy: 0.9625\n",
      "Epoch 5/10\n",
      "53/53 [==============================] - 0s 1ms/step - loss: 0.0512 - accuracy: 0.9833\n",
      "Epoch 6/10\n",
      "53/53 [==============================] - 0s 1ms/step - loss: 0.0320 - accuracy: 0.9899\n",
      "Epoch 7/10\n",
      "53/53 [==============================] - 0s 1ms/step - loss: 0.0257 - accuracy: 0.9929\n",
      "Epoch 8/10\n",
      "53/53 [==============================] - 0s 1ms/step - loss: 0.0169 - accuracy: 0.9958\n",
      "Epoch 9/10\n",
      "53/53 [==============================] - 0s 1ms/step - loss: 0.0099 - accuracy: 0.9976\n",
      "Epoch 10/10\n",
      "53/53 [==============================] - 0s 1ms/step - loss: 0.0079 - accuracy: 0.9988\n"
     ]
    },
    {
     "data": {
      "text/plain": [
       "<tensorflow.python.keras.callbacks.History at 0x7fae08d88940>"
      ]
     },
     "execution_count": 197,
     "metadata": {},
     "output_type": "execute_result"
    }
   ],
   "source": [
    "# model을 학습시키는 코드를 직접 작성해 보세요.\n",
    "# Hint! model.compile()과 model.fit()을 사용해 봅시다.\n",
    "# [[YOUR CODE]]\n",
    "model.compile(optimizer='adam',\n",
    "             loss='sparse_categorical_crossentropy',\n",
    "             metrics=['accuracy'])\n",
    "# 모델 훈련\n",
    "model.fit(x_train, y_train, epochs=n_train_epoch)"
   ]
  },
  {
   "cell_type": "code",
   "execution_count": 200,
   "metadata": {},
   "outputs": [
    {
     "name": "stdout",
     "output_type": "stream",
     "text": [
      "27/27 - 0s - loss: 0.0084 - accuracy: 0.9988\n",
      "test_loss: 0.008408711291849613 \n",
      "test_accuracy: 0.9988095164299011\n"
     ]
    }
   ],
   "source": [
    "test_loss, test_accuracy = model.evaluate(x_test, y_test, verbose=2)\n",
    "print(\"test_loss: {} \".format(test_loss))\n",
    "print(\"test_accuracy: {}\".format(test_accuracy))"
   ]
  },
  {
   "cell_type": "markdown",
   "metadata": {},
   "source": [
    "현재 데이터셋은 Slack에 올려져 있던 180MB의 공개 데이터입니다.\n",
    "\n",
    "이를 train, test로 나눈 후에 train 만으로 학습을 진행하고 test로 정확도를 검사하였고 0.99가 나왔습니다. 이렇게 높게 나온 이유는, test데이터셋을 사용하지 않았음에도 데이터셋의 출처가 같기 때문에 어느정도 데이터의 일관성이 있기 때문이라고 생각됩니다.\n",
    "\n",
    "\n",
    "\n",
    "train과 test구분 없이 180MB를 전부 학습한 후에, 이를 제가 직접 촬영한 데이터셋으로 test하는 것을 여러번 학습을 진행해서 확인해 보았을 때는 정확도가 0.3에서 최대 0.66까지 오가며 큰 변동 폭을 갖고 움직였습니다. 이에 대한 결과는 180MB데이터에 대해서 가중치의 초기 값에 따라서 학습 진행의 양상이 바뀌었고 이에 따라서 과적합 정도가 큰 변화폭을 갖고 움직였음으로 기인했다고 생각합니다."
   ]
  },
  {
   "cell_type": "code",
   "execution_count": null,
   "metadata": {},
   "outputs": [],
   "source": []
  },
  {
   "cell_type": "code",
   "execution_count": null,
   "metadata": {},
   "outputs": [],
   "source": []
  }
 ],
 "metadata": {
  "kernelspec": {
   "display_name": "Python 3",
   "language": "python",
   "name": "python3"
  },
  "language_info": {
   "codemirror_mode": {
    "name": "ipython",
    "version": 3
   },
   "file_extension": ".py",
   "mimetype": "text/x-python",
   "name": "python",
   "nbconvert_exporter": "python",
   "pygments_lexer": "ipython3",
   "version": "3.8.3"
  }
 },
 "nbformat": 4,
 "nbformat_minor": 4
}
